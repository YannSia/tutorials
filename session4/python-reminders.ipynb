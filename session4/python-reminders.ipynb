{
 "cells": [
  {
   "cell_type": "markdown",
   "metadata": {},
   "source": [
    "# Python reminders"
   ]
  },
  {
   "cell_type": "markdown",
   "metadata": {},
   "source": [
    "- Fonctions numpy courantes\n",
    "- Applatissement (reshape)\n",
    "- expliquer le redimensionnement\n",
    "- python arrays"
   ]
  },
  {
   "cell_type": "code",
   "execution_count": 10,
   "metadata": {},
   "outputs": [],
   "source": [
    "import numpy as np\n",
    "import matplotlib.pyplot as plt"
   ]
  },
  {
   "cell_type": "markdown",
   "metadata": {},
   "source": [
    "## Generate some data\n",
    "\n",
    "Generate 16 batches of 32x32 normalized images (pixels $\\in [0, 1]$) with 3 channels (RGB)."
   ]
  },
  {
   "cell_type": "code",
   "execution_count": 11,
   "metadata": {},
   "outputs": [],
   "source": [
    "batch_size = 16\n",
    "data = np.random.rand(batch_size, 32, 32, 3, 1).astype(np.float16)"
   ]
  },
  {
   "cell_type": "markdown",
   "metadata": {},
   "source": [
    "### Check that our images are indeed random"
   ]
  },
  {
   "cell_type": "code",
   "execution_count": 12,
   "metadata": {},
   "outputs": [
    {
     "data": {
      "text/plain": [
       "<matplotlib.image.AxesImage at 0x7fd9c835f2e0>"
      ]
     },
     "execution_count": 12,
     "metadata": {},
     "output_type": "execute_result"
    },
    {
     "data": {
      "image/png": "[encoded data removed]",
      "text/plain": [
       "<Figure size 640x480 with 1 Axes>"
      ]
     },
     "metadata": {},
     "output_type": "display_data"
    }
   ],
   "source": [
    "plt.imshow(data[0].astype(np.float32).reshape(32, 32, 3))"
   ]
  },
  {
   "cell_type": "markdown",
   "metadata": {},
   "source": [
    "## Removing unecessary dimensions"
   ]
  },
  {
   "cell_type": "code",
   "execution_count": 13,
   "metadata": {},
   "outputs": [
    {
     "data": {
      "text/plain": [
       "'We have 16 image of shape (16, 32, 32, 3, 1)'"
      ]
     },
     "execution_count": 13,
     "metadata": {},
     "output_type": "execute_result"
    }
   ],
   "source": [
    "f\"We have {len(data)} image of shape {data.shape}\""
   ]
  },
  {
   "cell_type": "markdown",
   "metadata": {},
   "source": [
    "The `, 1` in the shape adds an unnecessary dimension. We can remove it with `squeeze`."
   ]
  },
  {
   "cell_type": "code",
   "execution_count": 14,
   "metadata": {},
   "outputs": [
    {
     "name": "stdout",
     "output_type": "stream",
     "text": [
      "Single pixel of an image: (3, 1) -> \n",
      "[[0.2299]\n",
      " [0.6816]\n",
      " [0.712 ]]\n"
     ]
    },
    {
     "data": {
      "text/plain": [
       "(16, 32, 32, 3)"
      ]
     },
     "execution_count": 14,
     "metadata": {},
     "output_type": "execute_result"
    }
   ],
   "source": [
    "print(f\"Single pixel of an image: {data[0][0][0].shape} -> \\n{data[0][0][0]}\")\n",
    "data.squeeze().shape # Just for display, we don't actually modify `data`"
   ]
  },
  {
   "cell_type": "markdown",
   "metadata": {},
   "source": [
    "## Reshaping / flattening\n",
    "\n",
    "Now we want pixels in each image to be in a single row. We can do this with [`reshape`](https://numpy.org/doc/stable/reference/generated/numpy.reshape.html)."
   ]
  },
  {
   "cell_type": "code",
   "execution_count": 15,
   "metadata": {},
   "outputs": [
    {
     "data": {
      "text/plain": [
       "((16, 3072),\n",
       " array([[0.2299 , 0.6816 , 0.712  , ..., 0.4556 , 0.713  , 0.9795 ],\n",
       "        [0.1222 , 0.6753 , 0.7666 , ..., 0.9756 , 0.2976 , 0.804  ],\n",
       "        [0.838  , 0.3171 , 0.3657 , ..., 0.4985 , 0.7515 , 0.4683 ],\n",
       "        ...,\n",
       "        [0.7144 , 0.3901 , 0.4138 , ..., 0.918  , 0.779  , 0.715  ],\n",
       "        [0.06033, 0.817  , 0.3738 , ..., 0.3677 , 0.7866 , 0.548  ],\n",
       "        [0.265  , 0.7456 , 0.2761 , ..., 0.2747 , 0.55   , 0.619  ]],\n",
       "       dtype=float16))"
      ]
     },
     "execution_count": 15,
     "metadata": {},
     "output_type": "execute_result"
    }
   ],
   "source": [
    "data = data.reshape(16, -1)\n",
    "# Equivalent to `data.reshape(16, 32 * 32 * 3)`, -1 infers shape\n",
    "\n",
    "assert data[0].shape[0] == 32 * 32 * 3\n",
    "data.shape, data"
   ]
  },
  {
   "cell_type": "markdown",
   "metadata": {},
   "source": [
    "## Keras basic functions"
   ]
  },
  {
   "cell_type": "code",
   "execution_count": 16,
   "metadata": {},
   "outputs": [],
   "source": [
    "from tensorflow import keras\n",
    "from tensorflow.keras import layers"
   ]
  },
  {
   "cell_type": "code",
   "execution_count": 17,
   "metadata": {},
   "outputs": [],
   "source": [
    "model = keras.Sequential([\n",
    "    layers.Dense(128, activation=\"relu\"),\n",
    "    layers.Dense(64, activation=\"relu\"),\n",
    "    layers.Dense(32, activation=\"relu\"),\n",
    "    \n",
    "    layers.Dense(1)\n",
    "])"
   ]
  },
  {
   "cell_type": "markdown",
   "metadata": {},
   "source": [
    "`keras.Sequential()` returns a `keras.Model` instance. Check its [documentation](https://www.tensorflow.org/api_docs/python/tf/keras/Model) to check the available functions such as `.compile()` and `.fit()`.\n",
    "\n",
    "Documentation for:\n",
    "\n",
    "- [Optimizers](https://www.tensorflow.org/api_docs/python/tf/keras/optimizers)\n",
    "- [Losses](https://www.tensorflow.org/api_docs/python/tf/keras/losses)\n",
    "- [Metrics](https://www.tensorflow.org/api_docs/python/tf/keras/metrics)"
   ]
  },
  {
   "cell_type": "code",
   "execution_count": 18,
   "metadata": {},
   "outputs": [],
   "source": [
    "model.compile(\n",
    "    # Can be a string of a `keras.optimizers` instance\n",
    "    optimizer=keras.optimizers.Adam(learning_rate=0.001),\n",
    "    loss=\"mse\", # Same\n",
    "    metrics=[\"accuracy\"], # Same, but in an array\n",
    ")"
   ]
  }
 ],
 "metadata": {
  "kernelspec": {
   "display_name": "Python 3.10.8 ('tf')",
   "language": "python",
   "name": "python3"
  },
  "language_info": {
   "codemirror_mode": {
    "name": "ipython",
    "version": 3
   },
   "file_extension": ".py",
   "mimetype": "text/x-python",
   "name": "python",
   "nbconvert_exporter": "python",
   "pygments_lexer": "ipython3",
   "version": "3.10.8"
  },
  "orig_nbformat": 4,
  "vscode": {
   "interpreter": {
    "hash": "887d1ba8db51194eb3d65ce06a73cece8856695d9757969fada6acc75b618015"
   }
  }
 },
 "nbformat": 4,
 "nbformat_minor": 2
}
